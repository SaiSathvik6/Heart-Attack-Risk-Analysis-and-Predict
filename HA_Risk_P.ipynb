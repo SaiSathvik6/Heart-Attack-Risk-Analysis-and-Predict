{
 "cells": [
  {
   "cell_type": "code",
   "execution_count": 33,
   "id": "7e71c879-72fb-4dd2-a9f5-5a7f3ebcd3c1",
   "metadata": {},
   "outputs": [],
   "source": [
    "import numpy as np\n",
    "import pandas as pd \n",
    "import matplotlib.pyplot as plt \n",
    "import seaborn as sns\n",
    "%matplotlib inline\n",
    "from imblearn.over_sampling import SMOTE"
   ]
  },
  {
   "cell_type": "code",
   "execution_count": 34,
   "id": "6bff9d27-3794-4fdb-a581-62a6ab924005",
   "metadata": {},
   "outputs": [],
   "source": [
    "from sklearn.preprocessing import MinMaxScaler\n",
    "from sklearn.preprocessing import LabelEncoder\n",
    "from sklearn.model_selection import train_test_split\n",
    "from sklearn.ensemble import RandomForestClassifier\n",
    "from sklearn.metrics import accuracy_score,classification_report,confusion_matrix"
   ]
  },
  {
   "cell_type": "code",
   "execution_count": 35,
   "id": "e22a617a-6252-4fde-9f40-71c09d51f2fc",
   "metadata": {},
   "outputs": [],
   "source": [
    "df = pd.read_csv(\"heart_attack_prediction_dataset.csv\")"
   ]
  },
  {
   "cell_type": "code",
   "execution_count": 36,
   "id": "5196747c-2d0a-452c-a928-3165867d249a",
   "metadata": {},
   "outputs": [
    {
     "data": {
      "text/plain": [
       "(8763, 24)"
      ]
     },
     "execution_count": 36,
     "metadata": {},
     "output_type": "execute_result"
    }
   ],
   "source": [
    "df.shape"
   ]
  },
  {
   "cell_type": "code",
   "execution_count": 37,
   "id": "1cf0baa5-279f-426a-9ee1-e79f494e4476",
   "metadata": {},
   "outputs": [
    {
     "name": "stdout",
     "output_type": "stream",
     "text": [
      "<class 'pandas.core.frame.DataFrame'>\n",
      "RangeIndex: 8763 entries, 0 to 8762\n",
      "Data columns (total 24 columns):\n",
      " #   Column                           Non-Null Count  Dtype  \n",
      "---  ------                           --------------  -----  \n",
      " 0   Age                              8763 non-null   int64  \n",
      " 1   Sex                              8763 non-null   object \n",
      " 2   Cholesterol                      8763 non-null   int64  \n",
      " 3   SBP                              8763 non-null   int64  \n",
      " 4   DBP                              8763 non-null   int64  \n",
      " 5   Diabetes                         8763 non-null   int64  \n",
      " 6   Family History                   8763 non-null   int64  \n",
      " 7   Smoking                          8763 non-null   int64  \n",
      " 8   Obesity                          8763 non-null   int64  \n",
      " 9   Alcohol Consumption              8763 non-null   int64  \n",
      " 10  Exercise Hours Per Week          8763 non-null   float64\n",
      " 11  Diet                             8763 non-null   object \n",
      " 12  Previous Heart Problems          8763 non-null   int64  \n",
      " 13  Medication Use                   8763 non-null   int64  \n",
      " 14  Stress Level                     8763 non-null   int64  \n",
      " 15  Sedentary Hours Per Day          8763 non-null   float64\n",
      " 16  BMI                              8763 non-null   float64\n",
      " 17  Triglycerides                    8763 non-null   int64  \n",
      " 18  Physical Activity Days Per Week  8763 non-null   int64  \n",
      " 19  Sleep Hours Per Day              8763 non-null   int64  \n",
      " 20  Country                          8763 non-null   object \n",
      " 21  Continent                        8763 non-null   object \n",
      " 22  Hemisphere                       8763 non-null   object \n",
      " 23  Heart Attack Risk                8763 non-null   int64  \n",
      "dtypes: float64(3), int64(16), object(5)\n",
      "memory usage: 1.6+ MB\n"
     ]
    }
   ],
   "source": [
    "df.info()"
   ]
  },
  {
   "cell_type": "code",
   "execution_count": 38,
   "id": "1538a328-9261-499a-8570-5a033f5f4ac5",
   "metadata": {},
   "outputs": [
    {
     "data": {
      "text/html": [
       "<div>\n",
       "<style scoped>\n",
       "    .dataframe tbody tr th:only-of-type {\n",
       "        vertical-align: middle;\n",
       "    }\n",
       "\n",
       "    .dataframe tbody tr th {\n",
       "        vertical-align: top;\n",
       "    }\n",
       "\n",
       "    .dataframe thead th {\n",
       "        text-align: right;\n",
       "    }\n",
       "</style>\n",
       "<table border=\"1\" class=\"dataframe\">\n",
       "  <thead>\n",
       "    <tr style=\"text-align: right;\">\n",
       "      <th></th>\n",
       "      <th>Age</th>\n",
       "      <th>Sex</th>\n",
       "      <th>Cholesterol</th>\n",
       "      <th>SBP</th>\n",
       "      <th>DBP</th>\n",
       "      <th>Diabetes</th>\n",
       "      <th>Family History</th>\n",
       "      <th>Smoking</th>\n",
       "      <th>Obesity</th>\n",
       "      <th>Alcohol Consumption</th>\n",
       "      <th>...</th>\n",
       "      <th>Stress Level</th>\n",
       "      <th>Sedentary Hours Per Day</th>\n",
       "      <th>BMI</th>\n",
       "      <th>Triglycerides</th>\n",
       "      <th>Physical Activity Days Per Week</th>\n",
       "      <th>Sleep Hours Per Day</th>\n",
       "      <th>Country</th>\n",
       "      <th>Continent</th>\n",
       "      <th>Hemisphere</th>\n",
       "      <th>Heart Attack Risk</th>\n",
       "    </tr>\n",
       "  </thead>\n",
       "  <tbody>\n",
       "    <tr>\n",
       "      <th>3795</th>\n",
       "      <td>88</td>\n",
       "      <td>Female</td>\n",
       "      <td>341</td>\n",
       "      <td>142</td>\n",
       "      <td>78</td>\n",
       "      <td>0</td>\n",
       "      <td>1</td>\n",
       "      <td>1</td>\n",
       "      <td>1</td>\n",
       "      <td>0</td>\n",
       "      <td>...</td>\n",
       "      <td>4</td>\n",
       "      <td>2.558515</td>\n",
       "      <td>36.296808</td>\n",
       "      <td>619</td>\n",
       "      <td>6</td>\n",
       "      <td>10</td>\n",
       "      <td>Thailand</td>\n",
       "      <td>Asia</td>\n",
       "      <td>Northern Hemisphere</td>\n",
       "      <td>0</td>\n",
       "    </tr>\n",
       "    <tr>\n",
       "      <th>483</th>\n",
       "      <td>70</td>\n",
       "      <td>Male</td>\n",
       "      <td>213</td>\n",
       "      <td>153</td>\n",
       "      <td>83</td>\n",
       "      <td>1</td>\n",
       "      <td>0</td>\n",
       "      <td>1</td>\n",
       "      <td>0</td>\n",
       "      <td>0</td>\n",
       "      <td>...</td>\n",
       "      <td>4</td>\n",
       "      <td>2.798991</td>\n",
       "      <td>30.839264</td>\n",
       "      <td>255</td>\n",
       "      <td>4</td>\n",
       "      <td>4</td>\n",
       "      <td>United Kingdom</td>\n",
       "      <td>Europe</td>\n",
       "      <td>Northern Hemisphere</td>\n",
       "      <td>0</td>\n",
       "    </tr>\n",
       "    <tr>\n",
       "      <th>8058</th>\n",
       "      <td>35</td>\n",
       "      <td>Male</td>\n",
       "      <td>362</td>\n",
       "      <td>114</td>\n",
       "      <td>68</td>\n",
       "      <td>1</td>\n",
       "      <td>0</td>\n",
       "      <td>1</td>\n",
       "      <td>0</td>\n",
       "      <td>0</td>\n",
       "      <td>...</td>\n",
       "      <td>9</td>\n",
       "      <td>4.316931</td>\n",
       "      <td>34.635492</td>\n",
       "      <td>458</td>\n",
       "      <td>5</td>\n",
       "      <td>4</td>\n",
       "      <td>United States</td>\n",
       "      <td>North America</td>\n",
       "      <td>Northern Hemisphere</td>\n",
       "      <td>0</td>\n",
       "    </tr>\n",
       "    <tr>\n",
       "      <th>6563</th>\n",
       "      <td>52</td>\n",
       "      <td>Female</td>\n",
       "      <td>182</td>\n",
       "      <td>103</td>\n",
       "      <td>87</td>\n",
       "      <td>1</td>\n",
       "      <td>0</td>\n",
       "      <td>1</td>\n",
       "      <td>1</td>\n",
       "      <td>0</td>\n",
       "      <td>...</td>\n",
       "      <td>1</td>\n",
       "      <td>8.257026</td>\n",
       "      <td>25.786160</td>\n",
       "      <td>752</td>\n",
       "      <td>3</td>\n",
       "      <td>7</td>\n",
       "      <td>Spain</td>\n",
       "      <td>Europe</td>\n",
       "      <td>Southern Hemisphere</td>\n",
       "      <td>0</td>\n",
       "    </tr>\n",
       "    <tr>\n",
       "      <th>1015</th>\n",
       "      <td>48</td>\n",
       "      <td>Male</td>\n",
       "      <td>181</td>\n",
       "      <td>139</td>\n",
       "      <td>71</td>\n",
       "      <td>0</td>\n",
       "      <td>0</td>\n",
       "      <td>1</td>\n",
       "      <td>1</td>\n",
       "      <td>0</td>\n",
       "      <td>...</td>\n",
       "      <td>1</td>\n",
       "      <td>7.589894</td>\n",
       "      <td>18.784914</td>\n",
       "      <td>714</td>\n",
       "      <td>1</td>\n",
       "      <td>8</td>\n",
       "      <td>France</td>\n",
       "      <td>Europe</td>\n",
       "      <td>Northern Hemisphere</td>\n",
       "      <td>0</td>\n",
       "    </tr>\n",
       "  </tbody>\n",
       "</table>\n",
       "<p>5 rows × 24 columns</p>\n",
       "</div>"
      ],
      "text/plain": [
       "      Age     Sex  Cholesterol  SBP  DBP  Diabetes  Family History  Smoking  \\\n",
       "3795   88  Female          341  142   78         0               1        1   \n",
       "483    70    Male          213  153   83         1               0        1   \n",
       "8058   35    Male          362  114   68         1               0        1   \n",
       "6563   52  Female          182  103   87         1               0        1   \n",
       "1015   48    Male          181  139   71         0               0        1   \n",
       "\n",
       "      Obesity  Alcohol Consumption  ...  Stress Level Sedentary Hours Per Day  \\\n",
       "3795        1                    0  ...             4                2.558515   \n",
       "483         0                    0  ...             4                2.798991   \n",
       "8058        0                    0  ...             9                4.316931   \n",
       "6563        1                    0  ...             1                8.257026   \n",
       "1015        1                    0  ...             1                7.589894   \n",
       "\n",
       "            BMI  Triglycerides  Physical Activity Days Per Week  \\\n",
       "3795  36.296808            619                                6   \n",
       "483   30.839264            255                                4   \n",
       "8058  34.635492            458                                5   \n",
       "6563  25.786160            752                                3   \n",
       "1015  18.784914            714                                1   \n",
       "\n",
       "      Sleep Hours Per Day         Country      Continent           Hemisphere  \\\n",
       "3795                   10        Thailand           Asia  Northern Hemisphere   \n",
       "483                     4  United Kingdom         Europe  Northern Hemisphere   \n",
       "8058                    4   United States  North America  Northern Hemisphere   \n",
       "6563                    7           Spain         Europe  Southern Hemisphere   \n",
       "1015                    8          France         Europe  Northern Hemisphere   \n",
       "\n",
       "      Heart Attack Risk  \n",
       "3795                  0  \n",
       "483                   0  \n",
       "8058                  0  \n",
       "6563                  0  \n",
       "1015                  0  \n",
       "\n",
       "[5 rows x 24 columns]"
      ]
     },
     "execution_count": 38,
     "metadata": {},
     "output_type": "execute_result"
    }
   ],
   "source": [
    "df.sample(5)"
   ]
  },
  {
   "cell_type": "code",
   "execution_count": 39,
   "id": "66ba57ba-063e-4a8a-ada5-da41954543e4",
   "metadata": {},
   "outputs": [
    {
     "data": {
      "text/plain": [
       "Heart Attack Risk\n",
       "0    5624\n",
       "1    3139\n",
       "Name: count, dtype: int64"
      ]
     },
     "execution_count": 39,
     "metadata": {},
     "output_type": "execute_result"
    }
   ],
   "source": [
    "df['Heart Attack Risk'].value_counts()"
   ]
  },
  {
   "cell_type": "code",
   "execution_count": 40,
   "id": "e78a1784-8c5f-414b-aac1-87bcdc2671ae",
   "metadata": {},
   "outputs": [
    {
     "data": {
      "text/plain": [
       "Age                                0\n",
       "Sex                                0\n",
       "Cholesterol                        0\n",
       "SBP                                0\n",
       "DBP                                0\n",
       "Diabetes                           0\n",
       "Family History                     0\n",
       "Smoking                            0\n",
       "Obesity                            0\n",
       "Alcohol Consumption                0\n",
       "Exercise Hours Per Week            0\n",
       "Diet                               0\n",
       "Previous Heart Problems            0\n",
       "Medication Use                     0\n",
       "Stress Level                       0\n",
       "Sedentary Hours Per Day            0\n",
       "BMI                                0\n",
       "Triglycerides                      0\n",
       "Physical Activity Days Per Week    0\n",
       "Sleep Hours Per Day                0\n",
       "Country                            0\n",
       "Continent                          0\n",
       "Hemisphere                         0\n",
       "Heart Attack Risk                  0\n",
       "dtype: int64"
      ]
     },
     "execution_count": 40,
     "metadata": {},
     "output_type": "execute_result"
    }
   ],
   "source": [
    "df.isnull().sum()"
   ]
  },
  {
   "cell_type": "code",
   "execution_count": 41,
   "id": "c194f0f0-4e63-4741-8468-d82447f8dc3b",
   "metadata": {},
   "outputs": [
    {
     "data": {
      "text/plain": [
       "Sex\n",
       "Male      6111\n",
       "Female    2652\n",
       "Name: count, dtype: int64"
      ]
     },
     "execution_count": 41,
     "metadata": {},
     "output_type": "execute_result"
    }
   ],
   "source": [
    "df['Sex'].value_counts()"
   ]
  },
  {
   "cell_type": "code",
   "execution_count": 42,
   "id": "72290dbc-18fa-4493-9f8f-ec99102c1238",
   "metadata": {},
   "outputs": [
    {
     "data": {
      "text/plain": [
       "array([67, 21, 84, 66, 54, 90, 20, 43, 73, 71, 77, 60, 88, 69, 38, 50, 45,\n",
       "       36, 48, 40, 79, 63, 27, 25, 86, 42, 52, 29, 30, 47, 44, 33, 51, 70,\n",
       "       85, 31, 56, 24, 74, 72, 55, 26, 53, 46, 57, 22, 35, 39, 80, 65, 83,\n",
       "       82, 28, 19, 75, 18, 34, 37, 89, 32, 49, 23, 59, 62, 64, 61, 76, 41,\n",
       "       87, 81, 58, 78, 68], dtype=int64)"
      ]
     },
     "execution_count": 42,
     "metadata": {},
     "output_type": "execute_result"
    }
   ],
   "source": [
    "df['Age'].unique()"
   ]
  },
  {
   "cell_type": "code",
   "execution_count": 43,
   "id": "52bde574-d965-45b3-9bc7-cac278d1b22e",
   "metadata": {},
   "outputs": [
    {
     "data": {
      "text/plain": [
       "array(['Average', 'Unhealthy', 'Healthy'], dtype=object)"
      ]
     },
     "execution_count": 43,
     "metadata": {},
     "output_type": "execute_result"
    }
   ],
   "source": [
    "df['Diet'].unique()"
   ]
  },
  {
   "cell_type": "code",
   "execution_count": 44,
   "id": "ff5d0131-7d02-452a-9df5-6e881b43ce19",
   "metadata": {},
   "outputs": [
    {
     "data": {
      "text/plain": [
       "Heart Attack Risk\n",
       "0    5624\n",
       "1    3139\n",
       "Name: count, dtype: int64"
      ]
     },
     "execution_count": 44,
     "metadata": {},
     "output_type": "execute_result"
    }
   ],
   "source": [
    "df['Heart Attack Risk'].value_counts()"
   ]
  },
  {
   "cell_type": "code",
   "execution_count": 45,
   "id": "4aacd98d-2b1b-456f-802d-e7916ed51cb3",
   "metadata": {},
   "outputs": [],
   "source": [
    "df.drop(['Country','Continent','Hemisphere'],axis=1,inplace=True)"
   ]
  },
  {
   "cell_type": "code",
   "execution_count": 46,
   "id": "58743efb-935e-48a2-9a0e-86c1248616ae",
   "metadata": {},
   "outputs": [
    {
     "data": {
      "text/plain": [
       "Index(['Age', 'Sex', 'Cholesterol', 'SBP', 'DBP', 'Diabetes', 'Family History',\n",
       "       'Smoking', 'Obesity', 'Alcohol Consumption', 'Exercise Hours Per Week',\n",
       "       'Diet', 'Previous Heart Problems', 'Medication Use', 'Stress Level',\n",
       "       'Sedentary Hours Per Day', 'BMI', 'Triglycerides',\n",
       "       'Physical Activity Days Per Week', 'Sleep Hours Per Day',\n",
       "       'Heart Attack Risk'],\n",
       "      dtype='object')"
      ]
     },
     "execution_count": 46,
     "metadata": {},
     "output_type": "execute_result"
    }
   ],
   "source": [
    "df.columns"
   ]
  },
  {
   "cell_type": "code",
   "execution_count": 47,
   "id": "3373e946-b935-4e6e-9ab2-0e4e7e2cd5a0",
   "metadata": {},
   "outputs": [
    {
     "name": "stdout",
     "output_type": "stream",
     "text": [
      "Age:[67 21 84 66 54 90 20 43 73 71 77 60 88 69 38 50 45 36 48 40 79 63 27 25\n",
      " 86 42 52 29 30 47 44 33 51 70 85 31 56 24 74 72 55 26 53 46 57 22 35 39\n",
      " 80 65 83 82 28 19 75 18 34 37 89 32 49 23 59 62 64 61 76 41 87 81 58 78\n",
      " 68]\n",
      "Sex:['Male' 'Female']\n",
      "Cholesterol:[208 389 324 383 318 297 358 220 145 248 373 374 228 259 122 379 166 303\n",
      " 340 294 359 202 133 159 271 273 328 154 135 197 321 375 360 263 201 347\n",
      " 129 229 251 121 190 185 279 336 192 180 203 368 222 243 218 120 285 377\n",
      " 369 311 139 266 153 339 329 333 398 124 183 163 362 390 200 396 255 209\n",
      " 247 250 227 246 223 330 195 194 178 155 240 237 216 276 224 326 198 301\n",
      " 314 304 334 213 254 230 316 277 388 206 384 205 261 308 338 382 291 168\n",
      " 171 378 253 245 226 281 123 173 231 234 268 306 186 293 161 380 239 149\n",
      " 320 219 335 265 126 307 270 225 193 148 296 136 364 353 252 232 387 299\n",
      " 357 214 370 345 351 344 152 150 131 272 302 337 170 356 274 188 125 138\n",
      " 376 181 184 275 394 128 217 399 283 289 284 327 262 212 350 385 162 141\n",
      " 361 244 295 287 144 354 363 352 140 196 172 319 325 331 392 147 187 346\n",
      " 286 151 300 165 343 366 317 386 158 157 242 241 365 257 348 175 298 269\n",
      " 267 397 310 341 204 127 290 280 132 322 179 199 143 312 288 395 189 156\n",
      " 238 381 391 355 210 400 260 235 167 256 249 207 130 134 137 305 236 315\n",
      " 292 323 146 258 332 372 142 309 177 367 371 211 282 342 264 176 160 233\n",
      " 313 164 349 221 191 174 393 278 215 169 182]\n",
      "SBP:[158 165 174 163  91 172 102 131 144 160 107 101 169 112 114 173 120 180\n",
      " 130 175 161 140 148 113  99 178 111 103  94 127 134 115 124 104 149 106\n",
      " 168 159 100 118 152 151 109  92 179 132 177 110 116 139 164 122  95 155\n",
      " 108 105 146 166 117 145 170 125 135 137 121 126 142 128 143  96 153 156\n",
      " 162  98 150 133 157 154 123 171  90 176 167 141 138 119  97  93 147 129\n",
      " 136]\n",
      "DBP:[ 88  93  99 100  86  73  68 105  70  69  71  72  81  75  74  98 101  84\n",
      "  60 109  90  95  76  78  77  91  85 107  92  96 108  63 106  79  80  83\n",
      "  61  65  97  94  66 110 104  67  89 102  82  62  64  87 103]\n",
      "Diabetes:[0 1]\n",
      "Family History:[0 1]\n",
      "Smoking:[1 0]\n",
      "Obesity:[0 1]\n",
      "Alcohol Consumption:[0 1]\n",
      "Exercise Hours Per Week:[ 4.16818883  1.81324162  2.07835299 ...  3.14843791  3.78994983\n",
      " 18.08174797]\n",
      "Diet:['Average' 'Unhealthy' 'Healthy']\n",
      "Previous Heart Problems:[0 1]\n",
      "Medication Use:[0 1]\n",
      "Stress Level:[ 9  1  6  2  7  4  5  8 10  3]\n",
      "Sedentary Hours Per Day:[6.61500145 4.96345884 9.46342584 ... 2.37521373 0.02910426 9.00523438]\n",
      "BMI:[31.25123273 27.19497335 28.17657068 ... 35.40614616 27.29402009\n",
      " 32.91415086]\n",
      "Triglycerides:[286 235 587 378 231 795 284 370 790 232 469 523 590 506 635 773  68 402\n",
      " 517 247 747 360 358 526 605 667 316 551 482 718 297 661 558 209 586 743\n",
      " 411 785 697 519 595 452 158 679 675 792 584 366 741 474  92 410 398 493\n",
      " 614 682 106 216 408 628 481  67  82 305 164 211 511 766 547 327 367 681\n",
      " 131  42 692 664 543 689 569 458 683 779 136 643 653  55 275 314 760 404\n",
      " 576 690 648 385 255 468 784 509 205 109 530 654 331 485 250 113 377 180\n",
      " 229 602 285 471 554 344 416 445 709 426 528 388 441 306 749 347 341 451\n",
      " 356 336 455 223 262 239 555 363 489 788 121 553 617 174 167 563 665  65\n",
      " 657 237 141 767 292 214 221 447 634 460 711  97 267 695 717 383 332 449\n",
      " 701 524 549  31 276 744 128  52 394  54 739 407 751 436 473 218 129 579\n",
      " 492 696 202 197 521 325  35 123 694 434 248 348 750 431 714 649 668 401\n",
      " 610 244 691  88 532 777 420 350 652 413 754 753 457 122 312 778 676 775\n",
      " 183 601 317 592 191  83  32 453 423 234 650 565 798 769 412  63 198  93\n",
      " 764 737  94 298 288 735 190 281 146 574 359 155 719 466 273 515 187 544\n",
      " 103 132 118 115  85  38 117 362 133 498 645 339 787 733 663 291 502  78\n",
      "  81 257 624  91 374 270 797 446 464 450 722 556 184 428 796 656 134 196\n",
      " 623 522 376 730 463  99 593  47 148 302  57 280 389 629 294 186 700 774\n",
      " 181 375 467 603 616 380 495 698 318 207 780  51  84 425 310 126  56 472\n",
      " 669 688 655  39 333 501 479 540 433 179 490 204 644 525 546 486 320 319\n",
      "  58 591 165 732 195 478 461 631 301  50 315 194 199 160 149 527 406 161\n",
      " 125 200 277 308  69 427 236  77 500 269  79 168 575 606 355 636  64 251\n",
      " 245 228 287 800 483 791 260 604 536 559 124 254 159  73 542 390 755  60\n",
      "  61 491  40 437 215 440 379 789 266 505 243 783 403 637 156 729 438 507\n",
      " 725 562 324  87 253 626 541 364 456  30 182 621 494 776 442 429 684 219\n",
      "  70  98 166  95 135 646 337 226 710 608 208 724 704 512 206 224 622 598\n",
      " 465 119 293 630 386 513  45 578 261 217 715 282 391 580 192 399 249 396\n",
      " 278 448 782 419 503 220  49 304 157 150 545 627 582 178 263  33 299 303\n",
      "  66 763 256 139 651 756 372 345  48  46 421  43 771 210 781  41 508 353\n",
      " 566 726 736 326 759 477 369 188 104 329 309 384 599 415 770 571 552 145\n",
      " 632 373  71 550 583 322 475 357 673 454 757 201 100 274 258 613 233 330\n",
      " 731 761 296 573 335 716 642 142 674 572 638 222 752 740 397 594 705 381\n",
      " 615 539 242 499 435 680 535 238 283  89 589 666 678  76 176 620  75 721\n",
      " 143 723 570  44 203 259 677 734 662 707 745 487 577 443 120 111 365 116\n",
      " 538 162 742 212 581 313  36 400 619 609 252 706 264 290 138 300 346 712\n",
      "  34 387 140 154 758 462 672 713  86 414 699 529 382 432 368 193  72 537\n",
      " 560 189 342 531 311 241 685 497 640 321 480 144 585 171 727 660 799 600\n",
      " 597 213 708 151 265 618 658 746 307  53 514 611 153 352 225 567 702 520\n",
      " 417 102 607 548 647 476 762 147 424 459 409  74 510  37 323 240 175 786\n",
      "  80 439 504 772 670  59 334 703 392  90 496 422 279 343 671 794 163 328\n",
      " 625 272 227 152 105 693  96 484 568 633 659 230 112 793 101 172 110 612\n",
      " 185 289 418 533 686 641 169 349 173 516  62 557 596 728 371 738 444 561\n",
      " 114 765 338 588 246 295 564 488 177 687 395 518 127 639 137 354 271 107\n",
      " 340 534 768 130 720 405 430 268 108 748 351 393 361 170 470]\n",
      "Physical Activity Days Per Week:[0 1 4 3 5 6 7 2]\n",
      "Sleep Hours Per Day:[ 6  7  4  5 10  8  9]\n",
      "Heart Attack Risk:[0 1]\n"
     ]
    }
   ],
   "source": [
    "for col in df: \n",
    "    print(f'{col}:{df[col].unique()}')"
   ]
  },
  {
   "cell_type": "code",
   "execution_count": 48,
   "id": "b73e3ed3-b0d8-4d3c-8e68-d612ffa2381c",
   "metadata": {},
   "outputs": [],
   "source": [
    "df['Sex'] = df['Sex'].apply(lambda sex: 1 if sex == \"Male\" else 0)"
   ]
  },
  {
   "cell_type": "code",
   "execution_count": 49,
   "id": "422be5c0-a279-4bfd-b8e9-05b9d4773832",
   "metadata": {},
   "outputs": [],
   "source": [
    "le_diet = LabelEncoder()\n",
    "df['Diet'] = le_diet.fit_transform(df['Diet'])"
   ]
  },
  {
   "cell_type": "code",
   "execution_count": 50,
   "id": "97689e4f-3e48-4df6-8a78-64b7693dd74b",
   "metadata": {},
   "outputs": [],
   "source": [
    "cols_to_scale = ['Age','Cholesterol','Exercise Hours Per Week','SBP','DBP','Stress Level','Sleep Hours Per Day','Physical Activity Days Per Week','Triglycerides','BMI','Sedentary Hours Per Day']\n",
    "scalar = MinMaxScaler()\n",
    "df[cols_to_scale] = scalar.fit_transform(df[cols_to_scale])"
   ]
  },
  {
   "cell_type": "code",
   "execution_count": 51,
   "id": "2a8d1faf-2b4b-480a-9c78-2b162e8610eb",
   "metadata": {},
   "outputs": [],
   "source": [
    "x = df.drop('Heart Attack Risk',axis=1)\n",
    "y = df['Heart Attack Risk']"
   ]
  },
  {
   "cell_type": "code",
   "execution_count": 52,
   "id": "b988793f-617e-426e-a0d4-4d5cda2a8c56",
   "metadata": {},
   "outputs": [],
   "source": [
    "smote = SMOTE(sampling_strategy='minority')\n",
    "x_sm,y_sm = smote.fit_resample(x,y)"
   ]
  },
  {
   "cell_type": "code",
   "execution_count": 53,
   "id": "07c3c716-bfb6-47db-b451-b367097fcee0",
   "metadata": {},
   "outputs": [],
   "source": [
    "x_train,x_test,y_train,y_test = train_test_split(x_sm,y_sm,test_size=0.2,random_state=42)"
   ]
  },
  {
   "cell_type": "code",
   "execution_count": 54,
   "id": "8fdac049-e52f-4497-96c7-7575750707c9",
   "metadata": {},
   "outputs": [
    {
     "data": {
      "text/plain": [
       "((8998, 20), (2250, 20))"
      ]
     },
     "execution_count": 54,
     "metadata": {},
     "output_type": "execute_result"
    }
   ],
   "source": [
    "x_train.shape,x_test.shape"
   ]
  },
  {
   "cell_type": "code",
   "execution_count": 55,
   "id": "b4b431fe-ff36-4814-8a80-1bdc313aba29",
   "metadata": {},
   "outputs": [
    {
     "data": {
      "text/html": [
       "<style>#sk-container-id-2 {\n",
       "  /* Definition of color scheme common for light and dark mode */\n",
       "  --sklearn-color-text: black;\n",
       "  --sklearn-color-line: gray;\n",
       "  /* Definition of color scheme for unfitted estimators */\n",
       "  --sklearn-color-unfitted-level-0: #fff5e6;\n",
       "  --sklearn-color-unfitted-level-1: #f6e4d2;\n",
       "  --sklearn-color-unfitted-level-2: #ffe0b3;\n",
       "  --sklearn-color-unfitted-level-3: chocolate;\n",
       "  /* Definition of color scheme for fitted estimators */\n",
       "  --sklearn-color-fitted-level-0: #f0f8ff;\n",
       "  --sklearn-color-fitted-level-1: #d4ebff;\n",
       "  --sklearn-color-fitted-level-2: #b3dbfd;\n",
       "  --sklearn-color-fitted-level-3: cornflowerblue;\n",
       "\n",
       "  /* Specific color for light theme */\n",
       "  --sklearn-color-text-on-default-background: var(--sg-text-color, var(--theme-code-foreground, var(--jp-content-font-color1, black)));\n",
       "  --sklearn-color-background: var(--sg-background-color, var(--theme-background, var(--jp-layout-color0, white)));\n",
       "  --sklearn-color-border-box: var(--sg-text-color, var(--theme-code-foreground, var(--jp-content-font-color1, black)));\n",
       "  --sklearn-color-icon: #696969;\n",
       "\n",
       "  @media (prefers-color-scheme: dark) {\n",
       "    /* Redefinition of color scheme for dark theme */\n",
       "    --sklearn-color-text-on-default-background: var(--sg-text-color, var(--theme-code-foreground, var(--jp-content-font-color1, white)));\n",
       "    --sklearn-color-background: var(--sg-background-color, var(--theme-background, var(--jp-layout-color0, #111)));\n",
       "    --sklearn-color-border-box: var(--sg-text-color, var(--theme-code-foreground, var(--jp-content-font-color1, white)));\n",
       "    --sklearn-color-icon: #878787;\n",
       "  }\n",
       "}\n",
       "\n",
       "#sk-container-id-2 {\n",
       "  color: var(--sklearn-color-text);\n",
       "}\n",
       "\n",
       "#sk-container-id-2 pre {\n",
       "  padding: 0;\n",
       "}\n",
       "\n",
       "#sk-container-id-2 input.sk-hidden--visually {\n",
       "  border: 0;\n",
       "  clip: rect(1px 1px 1px 1px);\n",
       "  clip: rect(1px, 1px, 1px, 1px);\n",
       "  height: 1px;\n",
       "  margin: -1px;\n",
       "  overflow: hidden;\n",
       "  padding: 0;\n",
       "  position: absolute;\n",
       "  width: 1px;\n",
       "}\n",
       "\n",
       "#sk-container-id-2 div.sk-dashed-wrapped {\n",
       "  border: 1px dashed var(--sklearn-color-line);\n",
       "  margin: 0 0.4em 0.5em 0.4em;\n",
       "  box-sizing: border-box;\n",
       "  padding-bottom: 0.4em;\n",
       "  background-color: var(--sklearn-color-background);\n",
       "}\n",
       "\n",
       "#sk-container-id-2 div.sk-container {\n",
       "  /* jupyter's `normalize.less` sets `[hidden] { display: none; }`\n",
       "     but bootstrap.min.css set `[hidden] { display: none !important; }`\n",
       "     so we also need the `!important` here to be able to override the\n",
       "     default hidden behavior on the sphinx rendered scikit-learn.org.\n",
       "     See: https://github.com/scikit-learn/scikit-learn/issues/21755 */\n",
       "  display: inline-block !important;\n",
       "  position: relative;\n",
       "}\n",
       "\n",
       "#sk-container-id-2 div.sk-text-repr-fallback {\n",
       "  display: none;\n",
       "}\n",
       "\n",
       "div.sk-parallel-item,\n",
       "div.sk-serial,\n",
       "div.sk-item {\n",
       "  /* draw centered vertical line to link estimators */\n",
       "  background-image: linear-gradient(var(--sklearn-color-text-on-default-background), var(--sklearn-color-text-on-default-background));\n",
       "  background-size: 2px 100%;\n",
       "  background-repeat: no-repeat;\n",
       "  background-position: center center;\n",
       "}\n",
       "\n",
       "/* Parallel-specific style estimator block */\n",
       "\n",
       "#sk-container-id-2 div.sk-parallel-item::after {\n",
       "  content: \"\";\n",
       "  width: 100%;\n",
       "  border-bottom: 2px solid var(--sklearn-color-text-on-default-background);\n",
       "  flex-grow: 1;\n",
       "}\n",
       "\n",
       "#sk-container-id-2 div.sk-parallel {\n",
       "  display: flex;\n",
       "  align-items: stretch;\n",
       "  justify-content: center;\n",
       "  background-color: var(--sklearn-color-background);\n",
       "  position: relative;\n",
       "}\n",
       "\n",
       "#sk-container-id-2 div.sk-parallel-item {\n",
       "  display: flex;\n",
       "  flex-direction: column;\n",
       "}\n",
       "\n",
       "#sk-container-id-2 div.sk-parallel-item:first-child::after {\n",
       "  align-self: flex-end;\n",
       "  width: 50%;\n",
       "}\n",
       "\n",
       "#sk-container-id-2 div.sk-parallel-item:last-child::after {\n",
       "  align-self: flex-start;\n",
       "  width: 50%;\n",
       "}\n",
       "\n",
       "#sk-container-id-2 div.sk-parallel-item:only-child::after {\n",
       "  width: 0;\n",
       "}\n",
       "\n",
       "/* Serial-specific style estimator block */\n",
       "\n",
       "#sk-container-id-2 div.sk-serial {\n",
       "  display: flex;\n",
       "  flex-direction: column;\n",
       "  align-items: center;\n",
       "  background-color: var(--sklearn-color-background);\n",
       "  padding-right: 1em;\n",
       "  padding-left: 1em;\n",
       "}\n",
       "\n",
       "\n",
       "/* Toggleable style: style used for estimator/Pipeline/ColumnTransformer box that is\n",
       "clickable and can be expanded/collapsed.\n",
       "- Pipeline and ColumnTransformer use this feature and define the default style\n",
       "- Estimators will overwrite some part of the style using the `sk-estimator` class\n",
       "*/\n",
       "\n",
       "/* Pipeline and ColumnTransformer style (default) */\n",
       "\n",
       "#sk-container-id-2 div.sk-toggleable {\n",
       "  /* Default theme specific background. It is overwritten whether we have a\n",
       "  specific estimator or a Pipeline/ColumnTransformer */\n",
       "  background-color: var(--sklearn-color-background);\n",
       "}\n",
       "\n",
       "/* Toggleable label */\n",
       "#sk-container-id-2 label.sk-toggleable__label {\n",
       "  cursor: pointer;\n",
       "  display: block;\n",
       "  width: 100%;\n",
       "  margin-bottom: 0;\n",
       "  padding: 0.5em;\n",
       "  box-sizing: border-box;\n",
       "  text-align: center;\n",
       "}\n",
       "\n",
       "#sk-container-id-2 label.sk-toggleable__label-arrow:before {\n",
       "  /* Arrow on the left of the label */\n",
       "  content: \"▸\";\n",
       "  float: left;\n",
       "  margin-right: 0.25em;\n",
       "  color: var(--sklearn-color-icon);\n",
       "}\n",
       "\n",
       "#sk-container-id-2 label.sk-toggleable__label-arrow:hover:before {\n",
       "  color: var(--sklearn-color-text);\n",
       "}\n",
       "\n",
       "/* Toggleable content - dropdown */\n",
       "\n",
       "#sk-container-id-2 div.sk-toggleable__content {\n",
       "  max-height: 0;\n",
       "  max-width: 0;\n",
       "  overflow: hidden;\n",
       "  text-align: left;\n",
       "  /* unfitted */\n",
       "  background-color: var(--sklearn-color-unfitted-level-0);\n",
       "}\n",
       "\n",
       "#sk-container-id-2 div.sk-toggleable__content.fitted {\n",
       "  /* fitted */\n",
       "  background-color: var(--sklearn-color-fitted-level-0);\n",
       "}\n",
       "\n",
       "#sk-container-id-2 div.sk-toggleable__content pre {\n",
       "  margin: 0.2em;\n",
       "  border-radius: 0.25em;\n",
       "  color: var(--sklearn-color-text);\n",
       "  /* unfitted */\n",
       "  background-color: var(--sklearn-color-unfitted-level-0);\n",
       "}\n",
       "\n",
       "#sk-container-id-2 div.sk-toggleable__content.fitted pre {\n",
       "  /* unfitted */\n",
       "  background-color: var(--sklearn-color-fitted-level-0);\n",
       "}\n",
       "\n",
       "#sk-container-id-2 input.sk-toggleable__control:checked~div.sk-toggleable__content {\n",
       "  /* Expand drop-down */\n",
       "  max-height: 200px;\n",
       "  max-width: 100%;\n",
       "  overflow: auto;\n",
       "}\n",
       "\n",
       "#sk-container-id-2 input.sk-toggleable__control:checked~label.sk-toggleable__label-arrow:before {\n",
       "  content: \"▾\";\n",
       "}\n",
       "\n",
       "/* Pipeline/ColumnTransformer-specific style */\n",
       "\n",
       "#sk-container-id-2 div.sk-label input.sk-toggleable__control:checked~label.sk-toggleable__label {\n",
       "  color: var(--sklearn-color-text);\n",
       "  background-color: var(--sklearn-color-unfitted-level-2);\n",
       "}\n",
       "\n",
       "#sk-container-id-2 div.sk-label.fitted input.sk-toggleable__control:checked~label.sk-toggleable__label {\n",
       "  background-color: var(--sklearn-color-fitted-level-2);\n",
       "}\n",
       "\n",
       "/* Estimator-specific style */\n",
       "\n",
       "/* Colorize estimator box */\n",
       "#sk-container-id-2 div.sk-estimator input.sk-toggleable__control:checked~label.sk-toggleable__label {\n",
       "  /* unfitted */\n",
       "  background-color: var(--sklearn-color-unfitted-level-2);\n",
       "}\n",
       "\n",
       "#sk-container-id-2 div.sk-estimator.fitted input.sk-toggleable__control:checked~label.sk-toggleable__label {\n",
       "  /* fitted */\n",
       "  background-color: var(--sklearn-color-fitted-level-2);\n",
       "}\n",
       "\n",
       "#sk-container-id-2 div.sk-label label.sk-toggleable__label,\n",
       "#sk-container-id-2 div.sk-label label {\n",
       "  /* The background is the default theme color */\n",
       "  color: var(--sklearn-color-text-on-default-background);\n",
       "}\n",
       "\n",
       "/* On hover, darken the color of the background */\n",
       "#sk-container-id-2 div.sk-label:hover label.sk-toggleable__label {\n",
       "  color: var(--sklearn-color-text);\n",
       "  background-color: var(--sklearn-color-unfitted-level-2);\n",
       "}\n",
       "\n",
       "/* Label box, darken color on hover, fitted */\n",
       "#sk-container-id-2 div.sk-label.fitted:hover label.sk-toggleable__label.fitted {\n",
       "  color: var(--sklearn-color-text);\n",
       "  background-color: var(--sklearn-color-fitted-level-2);\n",
       "}\n",
       "\n",
       "/* Estimator label */\n",
       "\n",
       "#sk-container-id-2 div.sk-label label {\n",
       "  font-family: monospace;\n",
       "  font-weight: bold;\n",
       "  display: inline-block;\n",
       "  line-height: 1.2em;\n",
       "}\n",
       "\n",
       "#sk-container-id-2 div.sk-label-container {\n",
       "  text-align: center;\n",
       "}\n",
       "\n",
       "/* Estimator-specific */\n",
       "#sk-container-id-2 div.sk-estimator {\n",
       "  font-family: monospace;\n",
       "  border: 1px dotted var(--sklearn-color-border-box);\n",
       "  border-radius: 0.25em;\n",
       "  box-sizing: border-box;\n",
       "  margin-bottom: 0.5em;\n",
       "  /* unfitted */\n",
       "  background-color: var(--sklearn-color-unfitted-level-0);\n",
       "}\n",
       "\n",
       "#sk-container-id-2 div.sk-estimator.fitted {\n",
       "  /* fitted */\n",
       "  background-color: var(--sklearn-color-fitted-level-0);\n",
       "}\n",
       "\n",
       "/* on hover */\n",
       "#sk-container-id-2 div.sk-estimator:hover {\n",
       "  /* unfitted */\n",
       "  background-color: var(--sklearn-color-unfitted-level-2);\n",
       "}\n",
       "\n",
       "#sk-container-id-2 div.sk-estimator.fitted:hover {\n",
       "  /* fitted */\n",
       "  background-color: var(--sklearn-color-fitted-level-2);\n",
       "}\n",
       "\n",
       "/* Specification for estimator info (e.g. \"i\" and \"?\") */\n",
       "\n",
       "/* Common style for \"i\" and \"?\" */\n",
       "\n",
       ".sk-estimator-doc-link,\n",
       "a:link.sk-estimator-doc-link,\n",
       "a:visited.sk-estimator-doc-link {\n",
       "  float: right;\n",
       "  font-size: smaller;\n",
       "  line-height: 1em;\n",
       "  font-family: monospace;\n",
       "  background-color: var(--sklearn-color-background);\n",
       "  border-radius: 1em;\n",
       "  height: 1em;\n",
       "  width: 1em;\n",
       "  text-decoration: none !important;\n",
       "  margin-left: 1ex;\n",
       "  /* unfitted */\n",
       "  border: var(--sklearn-color-unfitted-level-1) 1pt solid;\n",
       "  color: var(--sklearn-color-unfitted-level-1);\n",
       "}\n",
       "\n",
       ".sk-estimator-doc-link.fitted,\n",
       "a:link.sk-estimator-doc-link.fitted,\n",
       "a:visited.sk-estimator-doc-link.fitted {\n",
       "  /* fitted */\n",
       "  border: var(--sklearn-color-fitted-level-1) 1pt solid;\n",
       "  color: var(--sklearn-color-fitted-level-1);\n",
       "}\n",
       "\n",
       "/* On hover */\n",
       "div.sk-estimator:hover .sk-estimator-doc-link:hover,\n",
       ".sk-estimator-doc-link:hover,\n",
       "div.sk-label-container:hover .sk-estimator-doc-link:hover,\n",
       ".sk-estimator-doc-link:hover {\n",
       "  /* unfitted */\n",
       "  background-color: var(--sklearn-color-unfitted-level-3);\n",
       "  color: var(--sklearn-color-background);\n",
       "  text-decoration: none;\n",
       "}\n",
       "\n",
       "div.sk-estimator.fitted:hover .sk-estimator-doc-link.fitted:hover,\n",
       ".sk-estimator-doc-link.fitted:hover,\n",
       "div.sk-label-container:hover .sk-estimator-doc-link.fitted:hover,\n",
       ".sk-estimator-doc-link.fitted:hover {\n",
       "  /* fitted */\n",
       "  background-color: var(--sklearn-color-fitted-level-3);\n",
       "  color: var(--sklearn-color-background);\n",
       "  text-decoration: none;\n",
       "}\n",
       "\n",
       "/* Span, style for the box shown on hovering the info icon */\n",
       ".sk-estimator-doc-link span {\n",
       "  display: none;\n",
       "  z-index: 9999;\n",
       "  position: relative;\n",
       "  font-weight: normal;\n",
       "  right: .2ex;\n",
       "  padding: .5ex;\n",
       "  margin: .5ex;\n",
       "  width: min-content;\n",
       "  min-width: 20ex;\n",
       "  max-width: 50ex;\n",
       "  color: var(--sklearn-color-text);\n",
       "  box-shadow: 2pt 2pt 4pt #999;\n",
       "  /* unfitted */\n",
       "  background: var(--sklearn-color-unfitted-level-0);\n",
       "  border: .5pt solid var(--sklearn-color-unfitted-level-3);\n",
       "}\n",
       "\n",
       ".sk-estimator-doc-link.fitted span {\n",
       "  /* fitted */\n",
       "  background: var(--sklearn-color-fitted-level-0);\n",
       "  border: var(--sklearn-color-fitted-level-3);\n",
       "}\n",
       "\n",
       ".sk-estimator-doc-link:hover span {\n",
       "  display: block;\n",
       "}\n",
       "\n",
       "/* \"?\"-specific style due to the `<a>` HTML tag */\n",
       "\n",
       "#sk-container-id-2 a.estimator_doc_link {\n",
       "  float: right;\n",
       "  font-size: 1rem;\n",
       "  line-height: 1em;\n",
       "  font-family: monospace;\n",
       "  background-color: var(--sklearn-color-background);\n",
       "  border-radius: 1rem;\n",
       "  height: 1rem;\n",
       "  width: 1rem;\n",
       "  text-decoration: none;\n",
       "  /* unfitted */\n",
       "  color: var(--sklearn-color-unfitted-level-1);\n",
       "  border: var(--sklearn-color-unfitted-level-1) 1pt solid;\n",
       "}\n",
       "\n",
       "#sk-container-id-2 a.estimator_doc_link.fitted {\n",
       "  /* fitted */\n",
       "  border: var(--sklearn-color-fitted-level-1) 1pt solid;\n",
       "  color: var(--sklearn-color-fitted-level-1);\n",
       "}\n",
       "\n",
       "/* On hover */\n",
       "#sk-container-id-2 a.estimator_doc_link:hover {\n",
       "  /* unfitted */\n",
       "  background-color: var(--sklearn-color-unfitted-level-3);\n",
       "  color: var(--sklearn-color-background);\n",
       "  text-decoration: none;\n",
       "}\n",
       "\n",
       "#sk-container-id-2 a.estimator_doc_link.fitted:hover {\n",
       "  /* fitted */\n",
       "  background-color: var(--sklearn-color-fitted-level-3);\n",
       "}\n",
       "</style><div id=\"sk-container-id-2\" class=\"sk-top-container\"><div class=\"sk-text-repr-fallback\"><pre>RandomForestClassifier()</pre><b>In a Jupyter environment, please rerun this cell to show the HTML representation or trust the notebook. <br />On GitHub, the HTML representation is unable to render, please try loading this page with nbviewer.org.</b></div><div class=\"sk-container\" hidden><div class=\"sk-item\"><div class=\"sk-estimator fitted sk-toggleable\"><input class=\"sk-toggleable__control sk-hidden--visually\" id=\"sk-estimator-id-2\" type=\"checkbox\" checked><label for=\"sk-estimator-id-2\" class=\"sk-toggleable__label fitted sk-toggleable__label-arrow fitted\">&nbsp;&nbsp;RandomForestClassifier<a class=\"sk-estimator-doc-link fitted\" rel=\"noreferrer\" target=\"_blank\" href=\"https://scikit-learn.org/1.4/modules/generated/sklearn.ensemble.RandomForestClassifier.html\">?<span>Documentation for RandomForestClassifier</span></a><span class=\"sk-estimator-doc-link fitted\">i<span>Fitted</span></span></label><div class=\"sk-toggleable__content fitted\"><pre>RandomForestClassifier()</pre></div> </div></div></div></div>"
      ],
      "text/plain": [
       "RandomForestClassifier()"
      ]
     },
     "execution_count": 55,
     "metadata": {},
     "output_type": "execute_result"
    }
   ],
   "source": [
    "model = RandomForestClassifier()\n",
    "model.fit(x_train,y_train)"
   ]
  },
  {
   "cell_type": "code",
   "execution_count": 56,
   "id": "1e001d24-25c9-4844-a24c-00537f665128",
   "metadata": {},
   "outputs": [
    {
     "data": {
      "text/plain": [
       "array([0, 1, 0, ..., 0, 0, 1], dtype=int64)"
      ]
     },
     "execution_count": 56,
     "metadata": {},
     "output_type": "execute_result"
    }
   ],
   "source": [
    "y_pred = model.predict(x_test)\n",
    "y_pred"
   ]
  },
  {
   "cell_type": "code",
   "execution_count": 57,
   "id": "f48166e5-0c9d-4f6c-863b-5c87b40a9c08",
   "metadata": {},
   "outputs": [
    {
     "data": {
      "text/plain": [
       "0.7004444444444444"
      ]
     },
     "execution_count": 57,
     "metadata": {},
     "output_type": "execute_result"
    }
   ],
   "source": [
    "accuracy_score(y_test,y_pred)"
   ]
  },
  {
   "cell_type": "code",
   "execution_count": 58,
   "id": "46a57e69-0a1c-4013-b286-98c251eaed8e",
   "metadata": {},
   "outputs": [
    {
     "name": "stdout",
     "output_type": "stream",
     "text": [
      "Classification Report: \n",
      "               precision    recall  f1-score   support\n",
      "\n",
      "           0       0.66      0.81      0.73      1120\n",
      "           1       0.76      0.59      0.66      1130\n",
      "\n",
      "    accuracy                           0.70      2250\n",
      "   macro avg       0.71      0.70      0.70      2250\n",
      "weighted avg       0.71      0.70      0.70      2250\n",
      "\n"
     ]
    }
   ],
   "source": [
    "print('Classification Report: \\n',classification_report(y_test,y_pred))"
   ]
  },
  {
   "cell_type": "code",
   "execution_count": 59,
   "id": "5f74e471-2979-4cc2-b8d6-74bd8a3f8117",
   "metadata": {},
   "outputs": [
    {
     "data": {
      "text/plain": [
       "array([[908, 212],\n",
       "       [462, 668]], dtype=int64)"
      ]
     },
     "execution_count": 59,
     "metadata": {},
     "output_type": "execute_result"
    }
   ],
   "source": [
    "cm = confusion_matrix(y_test,y_pred)\n",
    "cm"
   ]
  },
  {
   "cell_type": "code",
   "execution_count": 60,
   "id": "f4bd6c78-5f01-409c-ba1d-7f6fb0c1a86a",
   "metadata": {},
   "outputs": [
    {
     "data": {
      "text/plain": [
       "Text(45.722222222222214, 0.5, 'Truth')"
      ]
     },
     "execution_count": 60,
     "metadata": {},
     "output_type": "execute_result"
    },
    {
     "data": {
      "image/png": "[encoded data removed]",
      "text/plain": [
       "<Figure size 600x400 with 2 Axes>"
      ]
     },
     "metadata": {},
     "output_type": "display_data"
    }
   ],
   "source": [
    "plt.figure(figsize = (6,4))\n",
    "sns.heatmap(cm, annot=True,fmt='d')\n",
    "plt.xlabel('Predicted')\n",
    "plt.ylabel('Truth')"
   ]
  }
 ],
 "metadata": {
  "kernelspec": {
   "display_name": "Python 3 (ipykernel)",
   "language": "python",
   "name": "python3"
  },
  "language_info": {
   "codemirror_mode": {
    "name": "ipython",
    "version": 3
   },
   "file_extension": ".py",
   "mimetype": "text/x-python",
   "name": "python",
   "nbconvert_exporter": "python",
   "pygments_lexer": "ipython3",
   "version": "3.11.9"
  }
 },
 "nbformat": 4,
 "nbformat_minor": 5
}
